{
 "cells": [
  {
   "cell_type": "code",
   "execution_count": 143,
   "id": "59f4d43e-2d15-4614-9ffc-5921b9a19ad5",
   "metadata": {},
   "outputs": [
    {
     "data": {
      "text/html": [
       "<div>\n",
       "<style scoped>\n",
       "    .dataframe tbody tr th:only-of-type {\n",
       "        vertical-align: middle;\n",
       "    }\n",
       "\n",
       "    .dataframe tbody tr th {\n",
       "        vertical-align: top;\n",
       "    }\n",
       "\n",
       "    .dataframe thead th {\n",
       "        text-align: right;\n",
       "    }\n",
       "</style>\n",
       "<table border=\"1\" class=\"dataframe\">\n",
       "  <thead>\n",
       "    <tr style=\"text-align: right;\">\n",
       "      <th></th>\n",
       "      <th>Name</th>\n",
       "      <th>Gender</th>\n",
       "      <th>Track</th>\n",
       "      <th>Hometown</th>\n",
       "      <th>Math</th>\n",
       "      <th>Electronics</th>\n",
       "      <th>GEAS</th>\n",
       "      <th>Communication</th>\n",
       "      <th>Average</th>\n",
       "    </tr>\n",
       "  </thead>\n",
       "  <tbody>\n",
       "    <tr>\n",
       "      <th>0</th>\n",
       "      <td>S1</td>\n",
       "      <td>Male</td>\n",
       "      <td>Instrumentation</td>\n",
       "      <td>Luzon</td>\n",
       "      <td>58</td>\n",
       "      <td>89</td>\n",
       "      <td>75</td>\n",
       "      <td>78</td>\n",
       "      <td>74.000000</td>\n",
       "    </tr>\n",
       "    <tr>\n",
       "      <th>1</th>\n",
       "      <td>S2</td>\n",
       "      <td>Female</td>\n",
       "      <td>Communication</td>\n",
       "      <td>Mindanao</td>\n",
       "      <td>52</td>\n",
       "      <td>75</td>\n",
       "      <td>90</td>\n",
       "      <td>52</td>\n",
       "      <td>72.333333</td>\n",
       "    </tr>\n",
       "    <tr>\n",
       "      <th>2</th>\n",
       "      <td>S3</td>\n",
       "      <td>Female</td>\n",
       "      <td>Instrumentation</td>\n",
       "      <td>Mindanao</td>\n",
       "      <td>83</td>\n",
       "      <td>74</td>\n",
       "      <td>77</td>\n",
       "      <td>57</td>\n",
       "      <td>78.000000</td>\n",
       "    </tr>\n",
       "    <tr>\n",
       "      <th>3</th>\n",
       "      <td>S4</td>\n",
       "      <td>Male</td>\n",
       "      <td>Instrumentation</td>\n",
       "      <td>Visayas</td>\n",
       "      <td>65</td>\n",
       "      <td>58</td>\n",
       "      <td>91</td>\n",
       "      <td>68</td>\n",
       "      <td>71.333333</td>\n",
       "    </tr>\n",
       "    <tr>\n",
       "      <th>4</th>\n",
       "      <td>S5</td>\n",
       "      <td>Male</td>\n",
       "      <td>Communication</td>\n",
       "      <td>Luzon</td>\n",
       "      <td>59</td>\n",
       "      <td>86</td>\n",
       "      <td>43</td>\n",
       "      <td>88</td>\n",
       "      <td>62.666667</td>\n",
       "    </tr>\n",
       "  </tbody>\n",
       "</table>\n",
       "</div>"
      ],
      "text/plain": [
       "  Name  Gender            Track  Hometown  Math  Electronics  GEAS  \\\n",
       "0   S1    Male  Instrumentation     Luzon    58           89    75   \n",
       "1   S2  Female    Communication  Mindanao    52           75    90   \n",
       "2   S3  Female  Instrumentation  Mindanao    83           74    77   \n",
       "3   S4    Male  Instrumentation   Visayas    65           58    91   \n",
       "4   S5    Male    Communication     Luzon    59           86    43   \n",
       "\n",
       "   Communication    Average  \n",
       "0             78  74.000000  \n",
       "1             52  72.333333  \n",
       "2             57  78.000000  \n",
       "3             68  71.333333  \n",
       "4             88  62.666667  "
      ]
     },
     "execution_count": 143,
     "metadata": {},
     "output_type": "execute_result"
    }
   ],
   "source": [
    "# Create Data Frames\n",
    "# Create visualization\n",
    "\n",
    "import pandas as pd\n",
    "\n",
    "# Initializing and loading the dataset\n",
    "file_path = 'board2.xlsx'\n",
    "df = pd.read_excel(file_path)\n",
    "\n",
    "df.loc[:, 'Average'] = df[['Math', 'GEAS', 'Electronics']].mean(axis = 1)\n",
    "\n",
    "# Displaying the first few rows of the dataset\n",
    "df.head()"
   ]
  },
  {
   "cell_type": "code",
   "execution_count": 79,
   "id": "e46510fe-282a-4cc3-8825-b034679b5d92",
   "metadata": {
    "scrolled": true
   },
   "outputs": [
    {
     "data": {
      "text/html": [
       "<div>\n",
       "<style scoped>\n",
       "    .dataframe tbody tr th:only-of-type {\n",
       "        vertical-align: middle;\n",
       "    }\n",
       "\n",
       "    .dataframe tbody tr th {\n",
       "        vertical-align: top;\n",
       "    }\n",
       "\n",
       "    .dataframe thead th {\n",
       "        text-align: right;\n",
       "    }\n",
       "</style>\n",
       "<table border=\"1\" class=\"dataframe\">\n",
       "  <thead>\n",
       "    <tr style=\"text-align: right;\">\n",
       "      <th></th>\n",
       "      <th>Name</th>\n",
       "      <th>Gender</th>\n",
       "      <th>Track</th>\n",
       "      <th>Hometown</th>\n",
       "      <th>Math</th>\n",
       "      <th>Electronics</th>\n",
       "      <th>GEAS</th>\n",
       "      <th>Communication</th>\n",
       "    </tr>\n",
       "  </thead>\n",
       "  <tbody>\n",
       "    <tr>\n",
       "      <th>0</th>\n",
       "      <td>S1</td>\n",
       "      <td>Male</td>\n",
       "      <td>Instrumentation</td>\n",
       "      <td>Luzon</td>\n",
       "      <td>58</td>\n",
       "      <td>89</td>\n",
       "      <td>75</td>\n",
       "      <td>78</td>\n",
       "    </tr>\n",
       "    <tr>\n",
       "      <th>1</th>\n",
       "      <td>S2</td>\n",
       "      <td>Female</td>\n",
       "      <td>Communication</td>\n",
       "      <td>Mindanao</td>\n",
       "      <td>52</td>\n",
       "      <td>75</td>\n",
       "      <td>90</td>\n",
       "      <td>52</td>\n",
       "    </tr>\n",
       "    <tr>\n",
       "      <th>2</th>\n",
       "      <td>S3</td>\n",
       "      <td>Female</td>\n",
       "      <td>Instrumentation</td>\n",
       "      <td>Mindanao</td>\n",
       "      <td>83</td>\n",
       "      <td>74</td>\n",
       "      <td>77</td>\n",
       "      <td>57</td>\n",
       "    </tr>\n",
       "    <tr>\n",
       "      <th>3</th>\n",
       "      <td>S4</td>\n",
       "      <td>Male</td>\n",
       "      <td>Instrumentation</td>\n",
       "      <td>Visayas</td>\n",
       "      <td>65</td>\n",
       "      <td>58</td>\n",
       "      <td>91</td>\n",
       "      <td>68</td>\n",
       "    </tr>\n",
       "    <tr>\n",
       "      <th>4</th>\n",
       "      <td>S5</td>\n",
       "      <td>Male</td>\n",
       "      <td>Communication</td>\n",
       "      <td>Luzon</td>\n",
       "      <td>59</td>\n",
       "      <td>86</td>\n",
       "      <td>43</td>\n",
       "      <td>88</td>\n",
       "    </tr>\n",
       "  </tbody>\n",
       "</table>\n",
       "</div>"
      ],
      "text/plain": [
       "  Name  Gender            Track  Hometown  Math  Electronics  GEAS  \\\n",
       "0   S1    Male  Instrumentation     Luzon    58           89    75   \n",
       "1   S2  Female    Communication  Mindanao    52           75    90   \n",
       "2   S3  Female  Instrumentation  Mindanao    83           74    77   \n",
       "3   S4    Male  Instrumentation   Visayas    65           58    91   \n",
       "4   S5    Male    Communication     Luzon    59           86    43   \n",
       "\n",
       "   Communication  \n",
       "0             78  \n",
       "1             52  \n",
       "2             57  \n",
       "3             68  \n",
       "4             88  "
      ]
     },
     "execution_count": 79,
     "metadata": {},
     "output_type": "execute_result"
    }
   ],
   "source": [
    "# Create Data Frames\n",
    "# Create visualization\n",
    "\n",
    "import pandas as pd\n",
    "\n",
    "# Initializing and loading the dataset\n",
    "file_path = 'board2.xlsx'\n",
    "df = pd.read_excel(file_path)\n",
    "\n",
    "# Displaying the first few rows of the dataset\n",
    "df.head()"
   ]
  },
  {
   "cell_type": "markdown",
   "id": "5549ed5f-5f11-4a59-adb5-62f24425b3eb",
   "metadata": {},
   "source": [
    "# Number 1: Creating Data Frames"
   ]
  },
  {
   "cell_type": "code",
   "execution_count": 117,
   "id": "6cbf9610-657f-4a6d-ba89-0ec7a0f0de51",
   "metadata": {
    "scrolled": true
   },
   "outputs": [
    {
     "data": {
      "text/html": [
       "<div>\n",
       "<style scoped>\n",
       "    .dataframe tbody tr th:only-of-type {\n",
       "        vertical-align: middle;\n",
       "    }\n",
       "\n",
       "    .dataframe tbody tr th {\n",
       "        vertical-align: top;\n",
       "    }\n",
       "\n",
       "    .dataframe thead th {\n",
       "        text-align: right;\n",
       "    }\n",
       "</style>\n",
       "<table border=\"1\" class=\"dataframe\">\n",
       "  <thead>\n",
       "    <tr style=\"text-align: right;\">\n",
       "      <th></th>\n",
       "      <th>Name</th>\n",
       "      <th>Gender</th>\n",
       "      <th>Track</th>\n",
       "      <th>Math</th>\n",
       "    </tr>\n",
       "  </thead>\n",
       "  <tbody>\n",
       "    <tr>\n",
       "      <th>3</th>\n",
       "      <td>S4</td>\n",
       "      <td>Male</td>\n",
       "      <td>Instrumentation</td>\n",
       "      <td>65</td>\n",
       "    </tr>\n",
       "    <tr>\n",
       "      <th>10</th>\n",
       "      <td>S11</td>\n",
       "      <td>Female</td>\n",
       "      <td>Communication</td>\n",
       "      <td>48</td>\n",
       "    </tr>\n",
       "    <tr>\n",
       "      <th>21</th>\n",
       "      <td>S22</td>\n",
       "      <td>Female</td>\n",
       "      <td>Communication</td>\n",
       "      <td>64</td>\n",
       "    </tr>\n",
       "  </tbody>\n",
       "</table>\n",
       "</div>"
      ],
      "text/plain": [
       "   Name  Gender            Track  Math\n",
       "3    S4    Male  Instrumentation    65\n",
       "10  S11  Female    Communication    48\n",
       "21  S22  Female    Communication    64"
      ]
     },
     "execution_count": 117,
     "metadata": {},
     "output_type": "execute_result"
    }
   ],
   "source": [
    "# Creating table\n",
    "Vis_df = df[(df['Hometown'] == 'Visayas') & (df['Math'] < 70)]\n",
    "\n",
    "# Select necessary columns\n",
    "Vis_df = Vis_df[['Name', 'Gender', 'Track', 'Math']]\n",
    "\n",
    "# Print table\n",
    "Vis_df"
   ]
  },
  {
   "cell_type": "markdown",
   "id": "1527d3b5-8dad-4e4c-8d0a-4d9b14cb9b71",
   "metadata": {},
   "source": [
    "# a. Instrumentation majors who lives in Luzon"
   ]
  },
  {
   "cell_type": "code",
   "execution_count": 119,
   "id": "01ac43ba-0640-4f8c-9e0a-4c7a8e44f17e",
   "metadata": {},
   "outputs": [
    {
     "data": {
      "text/html": [
       "<div>\n",
       "<style scoped>\n",
       "    .dataframe tbody tr th:only-of-type {\n",
       "        vertical-align: middle;\n",
       "    }\n",
       "\n",
       "    .dataframe tbody tr th {\n",
       "        vertical-align: top;\n",
       "    }\n",
       "\n",
       "    .dataframe thead th {\n",
       "        text-align: right;\n",
       "    }\n",
       "</style>\n",
       "<table border=\"1\" class=\"dataframe\">\n",
       "  <thead>\n",
       "    <tr style=\"text-align: right;\">\n",
       "      <th></th>\n",
       "      <th>Name</th>\n",
       "      <th>GEAS</th>\n",
       "      <th>Electronics</th>\n",
       "    </tr>\n",
       "  </thead>\n",
       "  <tbody>\n",
       "    <tr>\n",
       "      <th>0</th>\n",
       "      <td>S1</td>\n",
       "      <td>75</td>\n",
       "      <td>89</td>\n",
       "    </tr>\n",
       "    <tr>\n",
       "      <th>7</th>\n",
       "      <td>S8</td>\n",
       "      <td>64</td>\n",
       "      <td>81</td>\n",
       "    </tr>\n",
       "    <tr>\n",
       "      <th>29</th>\n",
       "      <td>S30</td>\n",
       "      <td>57</td>\n",
       "      <td>81</td>\n",
       "    </tr>\n",
       "  </tbody>\n",
       "</table>\n",
       "</div>"
      ],
      "text/plain": [
       "   Name  GEAS  Electronics\n",
       "0    S1    75           89\n",
       "7    S8    64           81\n",
       "29  S30    57           81"
      ]
     },
     "execution_count": 119,
     "metadata": {},
     "output_type": "execute_result"
    }
   ],
   "source": [
    "# Create table for Instrumentation majors whose hometown is Luzon, with scores greater than 70\n",
    "Instru_df = df[(df['Track'] == 'Instrumentation') & (df['Hometown'] == 'Luzon') & (df['Electronics'] > 70)]\n",
    "\n",
    "# Select necessary columns\n",
    "Instru_df = Instru_df[['Name', 'GEAS', 'Electronics']]\n",
    "Instru_df"
   ]
  },
  {
   "cell_type": "markdown",
   "id": "41f5004b-d71f-448e-96aa-922d6c43e687",
   "metadata": {},
   "source": [
    "# b. Mindanaoan female board exam takers"
   ]
  },
  {
   "cell_type": "code",
   "execution_count": 9,
   "id": "f19a3f9f-68e9-471a-96ee-241a0fd8a311",
   "metadata": {},
   "outputs": [
    {
     "data": {
      "text/html": [
       "<div>\n",
       "<style scoped>\n",
       "    .dataframe tbody tr th:only-of-type {\n",
       "        vertical-align: middle;\n",
       "    }\n",
       "\n",
       "    .dataframe tbody tr th {\n",
       "        vertical-align: top;\n",
       "    }\n",
       "\n",
       "    .dataframe thead th {\n",
       "        text-align: right;\n",
       "    }\n",
       "</style>\n",
       "<table border=\"1\" class=\"dataframe\">\n",
       "  <thead>\n",
       "    <tr style=\"text-align: right;\">\n",
       "      <th></th>\n",
       "      <th>Name</th>\n",
       "      <th>Track</th>\n",
       "      <th>Electronics</th>\n",
       "      <th>Average</th>\n",
       "    </tr>\n",
       "  </thead>\n",
       "  <tbody>\n",
       "    <tr>\n",
       "      <th>1</th>\n",
       "      <td>S2</td>\n",
       "      <td>Communication</td>\n",
       "      <td>75</td>\n",
       "      <td>72.333333</td>\n",
       "    </tr>\n",
       "    <tr>\n",
       "      <th>2</th>\n",
       "      <td>S3</td>\n",
       "      <td>Instrumentation</td>\n",
       "      <td>74</td>\n",
       "      <td>78.000000</td>\n",
       "    </tr>\n",
       "    <tr>\n",
       "      <th>14</th>\n",
       "      <td>S15</td>\n",
       "      <td>Microelectronics</td>\n",
       "      <td>41</td>\n",
       "      <td>50.000000</td>\n",
       "    </tr>\n",
       "    <tr>\n",
       "      <th>16</th>\n",
       "      <td>S17</td>\n",
       "      <td>Microelectronics</td>\n",
       "      <td>79</td>\n",
       "      <td>79.000000</td>\n",
       "    </tr>\n",
       "    <tr>\n",
       "      <th>19</th>\n",
       "      <td>S20</td>\n",
       "      <td>Communication</td>\n",
       "      <td>60</td>\n",
       "      <td>60.333333</td>\n",
       "    </tr>\n",
       "  </tbody>\n",
       "</table>\n",
       "</div>"
      ],
      "text/plain": [
       "   Name             Track  Electronics    Average\n",
       "1    S2     Communication           75  72.333333\n",
       "2    S3   Instrumentation           74  78.000000\n",
       "14  S15  Microelectronics           41  50.000000\n",
       "16  S17  Microelectronics           79  79.000000\n",
       "19  S20     Communication           60  60.333333"
      ]
     },
     "execution_count": 9,
     "metadata": {},
     "output_type": "execute_result"
    }
   ],
   "source": [
    "# Create table for female board exam takers whose hometown is Mindanao and an average of >= 55\n",
    "Mindy_df = df[(df['Hometown'] == 'Mindanao') & (df['Gender'] == 'Female')].copy()\n",
    "\n",
    "# Getting the average of the scores of Mindanaon, female board exam takers with an average of >= 55\n",
    "Mindy_df.loc[:, 'Average'] = Mindy_df[['Math', 'GEAS', 'Electronics']].mean(axis = 1)\n",
    "\n",
    "# Select necessary columns\n",
    "Mindy_df = Mindy_df[['Name', 'Track', 'Electronics', 'Average']]\n",
    "Mindy_df"
   ]
  },
  {
   "cell_type": "markdown",
   "id": "a53de521-f32f-4a20-a916-87c95e4f0bdd",
   "metadata": {},
   "source": [
    "# Average Grade by Gender"
   ]
  },
  {
   "cell_type": "code",
   "execution_count": 149,
   "id": "91ebe8f9-dd97-41cf-8e1a-4da465df7111",
   "metadata": {},
   "outputs": [
    {
     "data": {
      "image/png": "[encoded data removed]",
      "text/plain": [
       "<Figure size 1000x600 with 1 Axes>"
      ]
     },
     "metadata": {},
     "output_type": "display_data"
    }
   ],
   "source": [
    "import matplotlib.pyplot as plt\n",
    "import seaborn as sns\n",
    "\n",
    "plt.figure(figsize = (10, 6))\n",
    "\n",
    "sns.boxplot(x = 'Gender', y = 'Average', data = df)\n",
    "\n",
    "plt.title('Average Grade by Gender')\n",
    "plt.xlabel('Gender')\n",
    "plt.ylabel('Average Grade')\n",
    "\n",
    "plt.show()"
   ]
  },
  {
   "cell_type": "markdown",
   "id": "2c5a1e55-b7d6-420c-8797-1aa45b0b48a9",
   "metadata": {},
   "source": [
    "# Average Grade by Track"
   ]
  },
  {
   "cell_type": "code",
   "execution_count": 151,
   "id": "7020bc15-e323-4b38-9b35-0c04e38d2715",
   "metadata": {},
   "outputs": [
    {
     "data": {
      "image/png": "[encoded data removed]",
      "text/plain": [
       "<Figure size 1000x600 with 1 Axes>"
      ]
     },
     "metadata": {},
     "output_type": "display_data"
    }
   ],
   "source": [
    "import matplotlib.pyplot as plt\n",
    "import seaborn as sns\n",
    "\n",
    "plt.figure(figsize = (10, 6))\n",
    "\n",
    "sns.boxplot(x = 'Track', y = 'Average', data = df)\n",
    "\n",
    "plt.title('Average Grade by Track')\n",
    "plt.xlabel('Track')\n",
    "plt.ylabel('Average Grade')\n",
    "\n",
    "plt.show()"
   ]
  },
  {
   "cell_type": "markdown",
   "id": "ee9b58df-9246-4aaa-82cc-f3289fa1cd2b",
   "metadata": {},
   "source": [
    "# Average Grade by Hometown"
   ]
  },
  {
   "cell_type": "code",
   "execution_count": 153,
   "id": "18c6b840-5833-4161-8a9f-a379019acede",
   "metadata": {},
   "outputs": [
    {
     "data": {
      "image/png": "[encoded data removed]",
      "text/plain": [
       "<Figure size 1000x600 with 1 Axes>"
      ]
     },
     "metadata": {},
     "output_type": "display_data"
    }
   ],
   "source": [
    "import matplotlib.pyplot as plt\n",
    "import seaborn as sns\n",
    "\n",
    "plt.figure(figsize = (10, 6))\n",
    "\n",
    "sns.boxplot(x = 'Hometown', y = 'Average', data = df)\n",
    "\n",
    "plt.title('Average Grade by Hometown')\n",
    "plt.xlabel('Hometown')\n",
    "plt.ylabel('Average Grade')\n",
    "\n",
    "plt.show()"
   ]
  }
 ],
 "metadata": {
  "kernelspec": {
   "display_name": "Python 3 (ipykernel)",
   "language": "python",
   "name": "python3"
  },
  "language_info": {
   "codemirror_mode": {
    "name": "ipython",
    "version": 3
   },
   "file_extension": ".py",
   "mimetype": "text/x-python",
   "name": "python",
   "nbconvert_exporter": "python",
   "pygments_lexer": "ipython3",
   "version": "3.12.4"
  }
 },
 "nbformat": 4,
 "nbformat_minor": 5
}
